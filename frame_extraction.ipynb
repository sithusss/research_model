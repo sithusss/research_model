{
 "cells": [
  {
   "cell_type": "code",
   "execution_count": 2,
   "metadata": {},
   "outputs": [
    {
     "name": "stdout",
     "output_type": "stream",
     "text": [
      "Total 1300 frames extracted and saved in extracted_frames_Right\n"
     ]
    }
   ],
   "source": [
    "import cv2\n",
    "import os\n",
    "\n",
    "def extract_frames(video_path, output_folder):\n",
    "    # Create output folder if it doesn't exist\n",
    "    if not os.path.exists(output_folder):\n",
    "        os.makedirs(output_folder)\n",
    "\n",
    "    # Open the video file\n",
    "    cap = cv2.VideoCapture(video_path)\n",
    "\n",
    "    # Initialize frame count\n",
    "    frame_count = 0\n",
    "\n",
    "    # Read until video is completed\n",
    "    while cap.isOpened():\n",
    "        # Read a frame from the video\n",
    "        ret, frame = cap.read()\n",
    "        \n",
    "        # If frame is not read successfully, break the loop\n",
    "        if not ret:\n",
    "            break\n",
    "\n",
    "        # Save the frame as an image file\n",
    "        frame_path = os.path.join(output_folder, f\"frame_{frame_count}.png\")\n",
    "        cv2.imwrite(frame_path, frame)\n",
    "\n",
    "        # Increment frame count\n",
    "        frame_count += 1\n",
    "\n",
    "    # Release the video capture object\n",
    "    cap.release()\n",
    "\n",
    "    print(f\"Total {frame_count} frames extracted and saved in {output_folder}\")\n",
    "\n",
    "# Example usage:\n",
    "video_path = \"Kata_F2_Right.avi\"  # Replace with the path to your video file\n",
    "output_folder = \"extracted_frames_Right\"   # Folder where frames will be saved\n",
    "\n",
    "extract_frames(video_path, output_folder)\n"
   ]
  }
 ],
 "metadata": {
  "kernelspec": {
   "display_name": "pose_env",
   "language": "python",
   "name": "python3"
  },
  "language_info": {
   "codemirror_mode": {
    "name": "ipython",
    "version": 3
   },
   "file_extension": ".py",
   "mimetype": "text/x-python",
   "name": "python",
   "nbconvert_exporter": "python",
   "pygments_lexer": "ipython3",
   "version": "3.9.19"
  }
 },
 "nbformat": 4,
 "nbformat_minor": 2
}
