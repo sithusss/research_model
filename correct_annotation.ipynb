{
 "cells": [
  {
   "cell_type": "code",
   "execution_count": 2,
   "id": "9fd63fde-15d7-4940-acf5-39fbb918b5e9",
   "metadata": {},
   "outputs": [
    {
     "name": "stdout",
     "output_type": "stream",
     "text": [
      "[(0.5040646195411682, 0.3867337703704834, -0.3406052589416504), (0.5069230794906616, 0.3769104480743408, -0.32498565316200256), (0.510137140750885, 0.3769892752170563, -0.3252170979976654), (0.5124137997627258, 0.37724626064300537, -0.32513314485549927), (0.4994414448738098, 0.3767796456813812, -0.32634738087654114), (0.4967176616191864, 0.37695208191871643, -0.3265823423862457), (0.4939152002334595, 0.37734711170196533, -0.3266848623752594), (0.5138337016105652, 0.3806832730770111, -0.22181913256645203), (0.48999959230422974, 0.380923867225647, -0.22739824652671814), (0.5085524916648865, 0.3967033624649048, -0.29934635758399963), (0.499580055475235, 0.3960475027561188, -0.30244162678718567), (0.5407561659812927, 0.4315394461154938, -0.14066694676876068), (0.4694264531135559, 0.4303113520145416, -0.14761924743652344), (0.5903871059417725, 0.43299683928489685, -0.14005641639232635), (0.41958358883857727, 0.42653772234916687, -0.1424311399459839), (0.6359484791755676, 0.42415082454681396, -0.24741612374782562), (0.3714412450790405, 0.42689839005470276, -0.22097055613994598), (0.6497814059257507, 0.427645206451416, -0.26960310339927673), (0.3572341799736023, 0.42962250113487244, -0.24681761860847473), (0.6509807705879211, 0.4255765974521637, -0.30091235041618347), (0.35678914189338684, 0.42762240767478943, -0.27313050627708435), (0.6454734206199646, 0.42575275897979736, -0.2632817327976227), (0.36148717999458313, 0.4283386170864105, -0.23639678955078125), (0.5271561145782471, 0.5728696584701538, 0.00412882911041379), (0.48843511939048767, 0.5736967325210571, -0.004281217698007822), (0.5311752557754517, 0.6745958924293518, 0.033702388405799866), (0.47629016637802124, 0.6701407432556152, -0.003395610488951206), (0.5444961190223694, 0.7644777894020081, 0.22390741109848022), (0.4603690803050995, 0.7630146145820618, 0.18340149521827698), (0.5446211695671082, 0.7762004733085632, 0.2357882410287857), (0.4634045958518982, 0.7737109065055847, 0.19662845134735107), (0.5507093071937561, 0.7936741709709167, 0.12322354316711426), (0.4568284749984741, 0.7938894629478455, 0.087680384516716)]\n"
     ]
    }
   ],
   "source": [
    "import cv2\n",
    "import mediapipe as mp\n",
    "\n",
    "# Function to extract keypoints from an image using MediaPipe Pose\n",
    "def extract_keypoints(image_path):\n",
    "    mp_pose = mp.solutions.pose\n",
    "    pose = mp_pose.Pose(static_image_mode=True, model_complexity=2, enable_segmentation=True)\n",
    "\n",
    "    image = cv2.imread(image_path)\n",
    "    image_rgb = cv2.cvtColor(image, cv2.COLOR_BGR2RGB)\n",
    "    results = pose.process(image_rgb)\n",
    "\n",
    "    if results.pose_landmarks:\n",
    "        keypoints = []\n",
    "        for landmark in results.pose_landmarks.landmark:\n",
    "            keypoints.append((landmark.x, landmark.y, landmark.z))\n",
    "        return keypoints\n",
    "    else:\n",
    "        return None\n",
    "\n",
    "# Function to annotate keypoints on an image using MediaPipe\n",
    "def annotate_keypoints(image_path, keypoints):\n",
    "    image = cv2.imread(image_path)\n",
    "    for i, (x, y, z) in enumerate(keypoints):\n",
    "        cv2.circle(image, (int(x * image.shape[1]), int(y * image.shape[0])), 3, (0, 255, 0), -1)  # Draw keypoints\n",
    "        cv2.putText(image, str(i), (int(x * image.shape[1]) + 5, int(y * image.shape[0]) + 5),\n",
    "                    cv2.FONT_HERSHEY_SIMPLEX, 0.5, (255, 0, 0), 1)  # Annotate keypoints with index\n",
    "\n",
    "    cv2.imshow('Image with keypoints', image)\n",
    "    cv2.waitKey(0)\n",
    "    cv2.destroyAllWindows()\n",
    "\n",
    "# Example usage\n",
    "image_path = 'dataset_creation_codes/New-Frames_Left/frame_0.jpg'\n",
    "keypoints = extract_keypoints(image_path)\n",
    "if keypoints:\n",
    "    annotate_keypoints(image_path, keypoints)\n",
    "    print(keypoints)\n",
    "else:\n",
    "    print(\"No keypoints detected in the image.\")\n"
   ]
  },
  {
   "cell_type": "code",
   "execution_count": null,
   "id": "8e885b71-8ebc-4873-afa2-b11eaa7bf1ee",
   "metadata": {},
   "outputs": [],
   "source": []
  }
 ],
 "metadata": {
  "kernelspec": {
   "display_name": "Python 3 (ipykernel)",
   "language": "python",
   "name": "python3"
  },
  "language_info": {
   "codemirror_mode": {
    "name": "ipython",
    "version": 3
   },
   "file_extension": ".py",
   "mimetype": "text/x-python",
   "name": "python",
   "nbconvert_exporter": "python",
   "pygments_lexer": "ipython3",
   "version": "3.10.14"
  }
 },
 "nbformat": 4,
 "nbformat_minor": 5
}
